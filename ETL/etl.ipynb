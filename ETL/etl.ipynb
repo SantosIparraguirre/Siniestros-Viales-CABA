{
 "cells": [
  {
   "cell_type": "code",
   "execution_count": 17,
   "metadata": {},
   "outputs": [],
   "source": [
    "# Importación de librerías\n",
    "import pandas as pd\n",
    "\n",
    "# Carga de datos\n",
    "df_facts = pd.read_excel('../Dataset/hechos_eda.xlsx')\n",
    "df_victims = pd.read_excel('../Dataset/victimas_eda.xlsx')"
   ]
  },
  {
   "cell_type": "markdown",
   "metadata": {},
   "source": [
    "#### Luego de realizar el EDA, procedemos a limpiar y transformar los datos para la posterior carga en Power BI.\n",
    "\n",
    "Este proceso será simple debido a que ya hicimos transformaciones y cambios en el proceso de EDA. Sólo vamos a descartar columnas. \n",
    "\n",
    "Vamos a manipular los datos también en Power BI."
   ]
  },
  {
   "cell_type": "code",
   "execution_count": 19,
   "metadata": {},
   "outputs": [],
   "source": [
    "# Descartamos estas dos columnas creadas en el EDA, ya que podemos obtener la información de diversas formas más adelante si queremos representarlas o utilizarlas para medir.\n",
    "df_facts.drop(columns=['mes','dia_semana'], inplace=True)"
   ]
  },
  {
   "cell_type": "code",
   "execution_count": 21,
   "metadata": {},
   "outputs": [],
   "source": [
    "# Exportamos los datos a excel\n",
    "df_facts.to_excel('../Dataset/hechos.xlsx', index=False)\n",
    "df_victims.to_excel('../Dataset/victimas.xlsx', index=False)"
   ]
  }
 ],
 "metadata": {
  "kernelspec": {
   "display_name": "Python 3",
   "language": "python",
   "name": "python3"
  },
  "language_info": {
   "codemirror_mode": {
    "name": "ipython",
    "version": 3
   },
   "file_extension": ".py",
   "mimetype": "text/x-python",
   "name": "python",
   "nbconvert_exporter": "python",
   "pygments_lexer": "ipython3",
   "version": "3.11.8"
  }
 },
 "nbformat": 4,
 "nbformat_minor": 2
}
